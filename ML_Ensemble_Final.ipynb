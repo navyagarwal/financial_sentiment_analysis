{
 "cells": [
  {
   "cell_type": "code",
   "execution_count": 24,
   "id": "e9d50064",
   "metadata": {},
   "outputs": [],
   "source": [
    "#Preprocessing\n",
    "import pandas as pd\n",
    "import numpy as np\n",
    "import string\n",
    "import re\n",
    "import contractions\n",
    "# import spacy\n",
    "import nltk\n",
    "from textblob import TextBlob\n",
    "from nltk.corpus import stopwords\n",
    "from nltk.corpus import wordnet\n",
    "from cleantext import clean\n",
    "from sklearn.feature_extraction.text import TfidfVectorizer\n",
    "from sklearn.model_selection import train_test_split\n",
    "\n",
    "#Model Algorithms\n",
    "from sklearn.svm import SVC\n",
    "from sklearn.naive_bayes import MultinomialNB\n",
    "from sklearn.tree import DecisionTreeClassifier\n",
    "from sklearn.linear_model import LogisticRegression\n",
    "from sklearn.ensemble import VotingClassifier,StackingClassifier\n",
    "from sklearn.ensemble import BaggingClassifier\n",
    "\n",
    "import seaborn as sns\n",
    "import matplotlib.pyplot as plt\n",
    "from sklearn.metrics import confusion_matrix,classification_report,accuracy_score\n",
    "from sklearn.metrics import accuracy_score\n",
    "from sklearn import model_selection\n",
    "import contractions\n",
    "\n",
    "import time\n",
    "\n",
    "import warnings\n",
    "warnings.filterwarnings('ignore')"
   ]
  },
  {
   "cell_type": "markdown",
   "id": "cf4db763",
   "metadata": {},
   "source": [
    "### Read Training Dataset "
   ]
  },
  {
   "cell_type": "code",
   "execution_count": 26,
   "id": "1bbb20f0",
   "metadata": {},
   "outputs": [
    {
     "name": "stdout",
     "output_type": "stream",
     "text": [
      "Initial :\n",
      "Train\n",
      "------------------\n",
      "                                               input    output  \\\n",
      "0  `` The implementation of these programs has ha...  negative   \n",
      "1  InterContinental Hotels first-quarter global r...  negative   \n",
      "2  ALEXANDRIA , Va. , March 15 -- Jaakko Vilo of ...   neutral   \n",
      "3  Caterpillar: 3 lessons from an iconic brand ab...   neutral   \n",
      "4  `` The rest of this week 's tapings of Jimmy K...   neutral   \n",
      "\n",
      "                                         instruction  \n",
      "0  What is the sentiment of this news? Please cho...  \n",
      "1  What is the sentiment of this news? Please cho...  \n",
      "2  What is the sentiment of this news? Please cho...  \n",
      "3  What is the sentiment of this tweet? Please ch...  \n",
      "4  What is the sentiment of this news? Please cho...  \n",
      "\n",
      "Test\n",
      "------------------\n",
      "                                               input    output  \\\n",
      "0  X FINANCIAL INVESTOR ALERT: Wolf Haldenstein A...  negative   \n",
      "1  Work on the assignment has already started and...   neutral   \n",
      "2  Insurers: Admiral blows hot and cold but Aviva...   neutral   \n",
      "3  $JELD - Jeld-Wen Holding (JELD) Presents At 7t...   neutral   \n",
      "4         Compass Group says positive for year ahead  positive   \n",
      "\n",
      "                                         instruction  \n",
      "0  What is the sentiment of this tweet? Please ch...  \n",
      "1  What is the sentiment of this news? Please cho...  \n",
      "2  What is the sentiment of this news? Please cho...  \n",
      "3  What is the sentiment of this tweet? Please ch...  \n",
      "4  What is the sentiment of this news? Please cho...  \n"
     ]
    }
   ],
   "source": [
    "train=pd.read_csv(\"train_dataset.csv\",encoding=\"unicode_escape\")\n",
    "test=pd.read_csv(\"test_dataset.csv\")\n",
    "print(\"Initial :\")\n",
    "\n",
    "print('Train')\n",
    "print('------------------')\n",
    "print(train.head())\n",
    "\n",
    "print('\\nTest')\n",
    "print('------------------')\n",
    "print(test.head())"
   ]
  },
  {
   "cell_type": "markdown",
   "id": "2ec4cf45",
   "metadata": {},
   "source": [
    "### Attribute Selection"
   ]
  },
  {
   "cell_type": "code",
   "execution_count": 27,
   "id": "fea17548",
   "metadata": {},
   "outputs": [
    {
     "name": "stdout",
     "output_type": "stream",
     "text": [
      "Attribute Selection :\n",
      "\n",
      "Train\n",
      "------------------\n",
      "                                               input    output\n",
      "0  `` The implementation of these programs has ha...  negative\n",
      "1  InterContinental Hotels first-quarter global r...  negative\n",
      "2  ALEXANDRIA , Va. , March 15 -- Jaakko Vilo of ...   neutral\n",
      "3  Caterpillar: 3 lessons from an iconic brand ab...   neutral\n",
      "4  `` The rest of this week 's tapings of Jimmy K...   neutral\n",
      "\n",
      "Test\n",
      "------------------\n",
      "Attribute Selection :\n",
      "                                               input    output\n",
      "0  X FINANCIAL INVESTOR ALERT: Wolf Haldenstein A...  negative\n",
      "1  Work on the assignment has already started and...   neutral\n",
      "2  Insurers: Admiral blows hot and cold but Aviva...   neutral\n",
      "3  $JELD - Jeld-Wen Holding (JELD) Presents At 7t...   neutral\n",
      "4         Compass Group says positive for year ahead  positive\n"
     ]
    }
   ],
   "source": [
    "print('Attribute Selection :')\n",
    "print('\\nTrain')\n",
    "print('------------------')\n",
    "train=train[['input','output']]\n",
    "\n",
    "print(train.head())\n",
    "\n",
    "print('\\nTest')\n",
    "print('------------------')\n",
    "test=test[['input','output']]\n",
    "print('Attribute Selection :')\n",
    "print(test.head())"
   ]
  },
  {
   "cell_type": "markdown",
   "id": "f36c5de5",
   "metadata": {},
   "source": [
    "### Drop rows with null values "
   ]
  },
  {
   "cell_type": "code",
   "execution_count": 28,
   "id": "e5d6dbd9",
   "metadata": {},
   "outputs": [],
   "source": [
    "train.isnull().sum()\n",
    "train=train.dropna(axis=0)\n",
    "\n",
    "test.isnull().sum()\n",
    "test=test.dropna(axis=0)"
   ]
  },
  {
   "cell_type": "markdown",
   "id": "cca0e90c",
   "metadata": {},
   "source": [
    "### Convert to lowercase "
   ]
  },
  {
   "cell_type": "code",
   "execution_count": 29,
   "id": "0a3aca1d",
   "metadata": {},
   "outputs": [
    {
     "name": "stdout",
     "output_type": "stream",
     "text": [
      "Lowercase\n",
      "\n",
      "Train\n",
      "------------------\n",
      "0    `` the implementation of these programs has ha...\n",
      "1    intercontinental hotels first-quarter global r...\n",
      "2    alexandria , va. , march 15 -- jaakko vilo of ...\n",
      "3    caterpillar: 3 lessons from an iconic brand ab...\n",
      "4    `` the rest of this week 's tapings of jimmy k...\n",
      "Name: input, dtype: object\n",
      "\n",
      "Test\n",
      "------------------\n",
      "Lowercase\n",
      "0    x financial investor alert: wolf haldenstein a...\n",
      "1    work on the assignment has already started and...\n",
      "2    insurers: admiral blows hot and cold but aviva...\n",
      "3    $jeld - jeld-wen holding (jeld) presents at 7t...\n",
      "4           compass group says positive for year ahead\n",
      "Name: input, dtype: object\n"
     ]
    }
   ],
   "source": [
    "print('Lowercase')\n",
    "print('\\nTrain')\n",
    "print('------------------')\n",
    "train['input']=train['input'].str.lower()\n",
    "print(train['input'].head())\n",
    "\n",
    "print('\\nTest')\n",
    "print('------------------')\n",
    "test['input']=test['input'].str.lower()\n",
    "print('Lowercase')\n",
    "print(test['input'].head())"
   ]
  },
  {
   "cell_type": "markdown",
   "id": "79f9d156",
   "metadata": {},
   "source": [
    "### Remove URL"
   ]
  },
  {
   "cell_type": "code",
   "execution_count": 30,
   "id": "cb4ab375",
   "metadata": {},
   "outputs": [
    {
     "name": "stdout",
     "output_type": "stream",
     "text": [
      "Remove URL\n",
      "\n",
      "Train\n",
      "------------------\n",
      "Remove URL: \n",
      "0    `` the implementation of these programs has ha...\n",
      "1    intercontinental hotels first-quarter global r...\n",
      "2    alexandria , va. , march 15 -- jaakko vilo of ...\n",
      "3    caterpillar: 3 lessons from an iconic brand ab...\n",
      "4    `` the rest of this week 's tapings of jimmy k...\n",
      "Name: input, dtype: object\n",
      "\n",
      "Test\n",
      "------------------\n",
      "0    x financial investor alert: wolf haldenstein a...\n",
      "1    work on the assignment has already started and...\n",
      "2    insurers: admiral blows hot and cold but aviva...\n",
      "3    $jeld - jeld-wen holding (jeld) presents at 7t...\n",
      "4           compass group says positive for year ahead\n",
      "Name: input, dtype: object\n"
     ]
    }
   ],
   "source": [
    "print('Remove URL')\n",
    "print('\\nTrain')\n",
    "print('------------------')\n",
    "train['input'] = train['input'].replace('((www.[^\\s]+)|(https?://[^\\s]+))', '', regex = True)\n",
    "print(\"Remove URL: \")\n",
    "print(train['input'].head())\n",
    "\n",
    "\n",
    "print('\\nTest')\n",
    "print('------------------')\n",
    "test['input'] = test['input'].replace('((www.[^\\s]+)|(https?://[^\\s]+))', '', regex = True)\n",
    "print(test['input'].head())"
   ]
  },
  {
   "cell_type": "markdown",
   "id": "962faba2",
   "metadata": {},
   "source": [
    "### Remove Emoji "
   ]
  },
  {
   "cell_type": "code",
   "execution_count": 31,
   "id": "ff07ca6c",
   "metadata": {},
   "outputs": [
    {
     "name": "stdout",
     "output_type": "stream",
     "text": [
      "Remove Emoji\n",
      "\n",
      "Train\n",
      "------------------\n",
      "0    `` the implementation of these programs has ha...\n",
      "1    intercontinental hotels first-quarter global r...\n",
      "2    alexandria , va. , march 15 -- jaakko vilo of ...\n",
      "3    caterpillar: 3 lessons from an iconic brand ab...\n",
      "4    `` the rest of this week 's tapings of jimmy k...\n",
      "Name: input, dtype: object\n",
      "\n",
      "Test\n",
      "------------------\n",
      "0    x financial investor alert: wolf haldenstein a...\n",
      "1    work on the assignment has already started and...\n",
      "2    insurers: admiral blows hot and cold but aviva...\n",
      "3    $jeld - jeld-wen holding (jeld) presents at 7t...\n",
      "4           compass group says positive for year ahead\n",
      "Name: input, dtype: object\n"
     ]
    }
   ],
   "source": [
    "def remove_emojis(data):\n",
    "    emoj = re.compile(\"[\"\n",
    "        u\"\\U0001F600-\\U0001F64F\"  # emoticons\n",
    "        u\"\\U0001F300-\\U0001F5FF\"  # symbols & pictographs\n",
    "        u\"\\U0001F680-\\U0001F6FF\"  # transport & map symbols\n",
    "        u\"\\U0001F1E0-\\U0001F1FF\"  # flags (iOS)\n",
    "        u\"\\U00002500-\\U00002BEF\"  # chinese char\n",
    "        u\"\\U00002702-\\U000027B0\"\n",
    "        u\"\\U00002702-\\U000027B0\"\n",
    "        u\"\\U000024C2-\\U0001F251\"\n",
    "        u\"\\U0001f926-\\U0001f937\"\n",
    "        u\"\\U00010000-\\U0010ffff\"\n",
    "        u\"\\u2640-\\u2642\" \n",
    "        u\"\\u2600-\\u2B55\"\n",
    "        u\"\\u200d\"\n",
    "        u\"\\u23cf\"\n",
    "        u\"\\u23e9\"\n",
    "        u\"\\u231a\"\n",
    "        u\"\\ufe0f\"  # dingbats\n",
    "        u\"\\u3030\"\n",
    "                      \"]+\", re.UNICODE)\n",
    "    return re.sub(emoj, '', data)\n",
    "\n",
    "print('Remove Emoji')\n",
    "print('\\nTrain')\n",
    "print('------------------')\n",
    "train['input'] = train['input'].apply(lambda text: remove_emojis(text))\n",
    "print(train['input'].head())\n",
    "\n",
    "\n",
    "print('\\nTest')\n",
    "print('------------------')\n",
    "test['input'] = test['input'].apply(lambda text: remove_emojis(text))\n",
    "print(test['input'].head())"
   ]
  },
  {
   "cell_type": "markdown",
   "id": "b5fa10b9",
   "metadata": {},
   "source": [
    "### Remove @user "
   ]
  },
  {
   "cell_type": "code",
   "execution_count": 32,
   "id": "92c4583b",
   "metadata": {},
   "outputs": [
    {
     "name": "stdout",
     "output_type": "stream",
     "text": [
      "Remove @ User\n",
      "\n",
      "Train\n",
      "------------------\n",
      "Remove @user: \n",
      "0    `` the implementation of these programs has ha...\n",
      "1    intercontinental hotels first-quarter global r...\n",
      "2    alexandria , va. , march 15 -- jaakko vilo of ...\n",
      "3    caterpillar: 3 lessons from an iconic brand ab...\n",
      "4    `` the rest of this week 's tapings of jimmy k...\n",
      "Name: input, dtype: object\n",
      "\n",
      "Test\n",
      "------------------\n",
      "Remove @user: \n",
      "0    x financial investor alert: wolf haldenstein a...\n",
      "1    work on the assignment has already started and...\n",
      "2    insurers: admiral blows hot and cold but aviva...\n",
      "3    $jeld - jeld-wen holding (jeld) presents at 7t...\n",
      "4           compass group says positive for year ahead\n",
      "Name: input, dtype: object\n"
     ]
    }
   ],
   "source": [
    "print('Remove @ User')\n",
    "print('\\nTrain')\n",
    "print('------------------')\n",
    "train['input'] = train['input'].replace('(@[^\\s]+)', '', regex = True)\n",
    "print(\"Remove @user: \")\n",
    "print(train['input'].head())\n",
    "\n",
    "print('\\nTest')\n",
    "print('------------------')\n",
    "test['input'] = test['input'].replace('(@[^\\s]+)', '', regex = True)\n",
    "print(\"Remove @user: \")\n",
    "print(test['input'].head())"
   ]
  },
  {
   "cell_type": "markdown",
   "id": "9a1902f2",
   "metadata": {},
   "source": [
    "### Remove # keyword "
   ]
  },
  {
   "cell_type": "code",
   "execution_count": 33,
   "id": "d10c4302",
   "metadata": {},
   "outputs": [
    {
     "name": "stdout",
     "output_type": "stream",
     "text": [
      "Remove #\n",
      "\n",
      "Train\n",
      "------------------\n",
      "Remove #keyword: \n",
      "0    `` the implementation of these programs has ha...\n",
      "1    intercontinental hotels first-quarter global r...\n",
      "2    alexandria , va. , march 15 -- jaakko vilo of ...\n",
      "3    caterpillar: 3 lessons from an iconic brand ab...\n",
      "4    `` the rest of this week 's tapings of jimmy k...\n",
      "Name: input, dtype: object\n",
      "\n",
      "Test\n",
      "------------------\n",
      "Remove #keyword: \n",
      "0    x financial investor alert: wolf haldenstein a...\n",
      "1    work on the assignment has already started and...\n",
      "2    insurers: admiral blows hot and cold but aviva...\n",
      "3    $jeld - jeld-wen holding (jeld) presents at 7t...\n",
      "4           compass group says positive for year ahead\n",
      "Name: input, dtype: object\n"
     ]
    }
   ],
   "source": [
    "print('Remove #')\n",
    "print('\\nTrain')\n",
    "print('------------------')\n",
    "train['input'] = train['input'].replace('(#[^\\s]+)', '', regex = True)\n",
    "print(\"Remove #keyword: \")\n",
    "print(train['input'].head())\n",
    "\n",
    "\n",
    "print('\\nTest')\n",
    "print('------------------')\n",
    "test['input'] = test['input'].replace('(#[^\\s]+)', '', regex = True)\n",
    "print(\"Remove #keyword: \")\n",
    "print(test['input'].head())"
   ]
  },
  {
   "cell_type": "markdown",
   "id": "65d6bb81",
   "metadata": {},
   "source": [
    "### Remove numerical characters "
   ]
  },
  {
   "cell_type": "code",
   "execution_count": 34,
   "id": "d1a1f4f7",
   "metadata": {},
   "outputs": [
    {
     "name": "stdout",
     "output_type": "stream",
     "text": [
      "Remove numerical characters\n",
      "\n",
      "Train\n",
      "------------------\n",
      "0    `` the implementation of these programs has ha...\n",
      "1    intercontinental hotels first-quarter global r...\n",
      "2    alexandria , va. , march  -- jaakko vilo of tu...\n",
      "3    caterpillar:  lessons from an iconic brand abo...\n",
      "4    `` the rest of this week 's tapings of jimmy k...\n",
      "Name: input, dtype: object\n",
      "\n",
      "Test\n",
      "------------------\n",
      "Remove numbers: \n",
      "0    x financial investor alert: wolf haldenstein a...\n",
      "1    work on the assignment has already started and...\n",
      "2    insurers: admiral blows hot and cold but aviva...\n",
      "3    $jeld - jeld-wen holding (jeld) presents at th...\n",
      "4           compass group says positive for year ahead\n",
      "Name: input, dtype: object\n"
     ]
    }
   ],
   "source": [
    "print('Remove numerical characters')\n",
    "print('\\nTrain')\n",
    "print('------------------')\n",
    "train['input'] = train['input'].replace('[0-9]+', '', regex = True)\n",
    "print(train['input'].head())\n",
    "\n",
    "print('\\nTest')\n",
    "print('------------------')\n",
    "test['input'] = test['input'].replace('[0-9]+', '', regex = True)\n",
    "print(\"Remove numbers: \")\n",
    "print(test['input'].head())"
   ]
  },
  {
   "cell_type": "markdown",
   "id": "f28ffdfb",
   "metadata": {},
   "source": [
    "### Expand contractions"
   ]
  },
  {
   "cell_type": "code",
   "execution_count": 35,
   "id": "9c91f652",
   "metadata": {},
   "outputs": [
    {
     "name": "stdout",
     "output_type": "stream",
     "text": [
      "Expand contractions\n",
      "\n",
      "Train\n",
      "------------------\n",
      "0    `` the implementation of these programs has ha...\n",
      "1    intercontinental hotels first-quarter global r...\n",
      "2    alexandria , va. , march -- jaakko vilo of tur...\n",
      "3    caterpillar: lessons from an iconic brand abou...\n",
      "4    `` the rest of this week 's tapings of jimmy k...\n",
      "Name: input, dtype: object\n",
      "\n",
      "Test\n",
      "------------------\n",
      "0    x financial investor alert: wolf haldenstein a...\n",
      "1    work on the assignment has already started and...\n",
      "2    insurers: admiral blows hot and cold but aviva...\n",
      "3    $jeld - jeld-wen holding (jeld) presents at th...\n",
      "4           compass group says positive for year ahead\n",
      "Name: input, dtype: object\n"
     ]
    }
   ],
   "source": [
    "def expand_contractions(text):\n",
    "    return \" \".join([contractions.fix(word) for word in str(text).split()])\n",
    "    \n",
    "    \n",
    "print('Expand contractions')\n",
    "print('\\nTrain')\n",
    "print('------------------')\n",
    "train['input'] = train['input'].apply(lambda text: expand_contractions(text))\n",
    "print(train['input'].head())\n",
    "\n",
    "print('\\nTest')\n",
    "print('------------------')\n",
    "test['input'] = test['input'].apply(lambda text: expand_contractions(text))\n",
    "print(test['input'].head())"
   ]
  },
  {
   "cell_type": "markdown",
   "id": "3144ac82",
   "metadata": {},
   "source": [
    "### Remove punctuation "
   ]
  },
  {
   "cell_type": "code",
   "execution_count": 36,
   "id": "af5c38e4",
   "metadata": {},
   "outputs": [
    {
     "name": "stdout",
     "output_type": "stream",
     "text": [
      "Remove punctuation\n",
      "\n",
      "Train\n",
      "------------------\n",
      "Remove punctuation: \n",
      "0     the implementation of these programs has had ...\n",
      "1    intercontinental hotels firstquarter global ro...\n",
      "2    alexandria  va  march  jaakko vilo of turku  f...\n",
      "3    caterpillar lessons from an iconic brand about...\n",
      "4     the rest of this week s tapings of jimmy kimm...\n",
      "Name: input, dtype: object\n",
      "\n",
      "Test\n",
      "------------------\n",
      "Remove punctuation: \n",
      "0    x financial investor alert wolf haldenstein ad...\n",
      "1    work on the assignment has already started and...\n",
      "2    insurers admiral blows hot and cold but aviva ...\n",
      "3    jeld  jeldwen holding jeld presents at th annu...\n",
      "4           compass group says positive for year ahead\n",
      "Name: input, dtype: object\n"
     ]
    }
   ],
   "source": [
    "print('Remove punctuation')\n",
    "print('\\nTrain')\n",
    "print('------------------')\n",
    "train['input'] = train['input'].str.translate(str.maketrans('', '', string.punctuation))\n",
    "print(\"Remove punctuation: \")\n",
    "print(train['input'].head())\n",
    "\n",
    "print('\\nTest')\n",
    "print('------------------')\n",
    "test['input'] = test['input'].str.translate(str.maketrans('', '', string.punctuation))\n",
    "print(\"Remove punctuation: \")\n",
    "print(test['input'].head())"
   ]
  },
  {
   "cell_type": "markdown",
   "id": "ca1b07e6",
   "metadata": {},
   "source": [
    "### Remove repeated keywords"
   ]
  },
  {
   "cell_type": "code",
   "execution_count": 37,
   "id": "0c43e663",
   "metadata": {},
   "outputs": [
    {
     "name": "stdout",
     "output_type": "stream",
     "text": [
      "Remove repeated keywords :\n",
      "\n",
      "Train\n",
      "------------------\n",
      "0     the implementation of these programs has had ...\n",
      "1    intercontinental hotels firstquarter global ro...\n",
      "2    alexandria  va  march  jaakko vilo of turku  f...\n",
      "3    caterpillar lessons from an iconic brand about...\n",
      "4     the rest of this week s tapings of jimmy kimm...\n",
      "Name: input, dtype: object\n",
      "\n",
      "Test\n",
      "------------------\n",
      "0    x financial investor alert wolf haldenstein ad...\n",
      "1    work on the assignment has already started and...\n",
      "2    insurers admiral blows hot and cold but aviva ...\n",
      "3    jeld  jeldwen holding jeld presents at th annu...\n",
      "4           compass group says positive for year ahead\n",
      "Name: input, dtype: object\n"
     ]
    }
   ],
   "source": [
    "print('Remove repeated keywords :')\n",
    "print('\\nTrain')\n",
    "print('------------------')\n",
    "train['input'] = train['input'].replace(r'(.)\\1+', r'\\1\\1', regex = True)\n",
    "print(train['input'].head())\n",
    "\n",
    "print('\\nTest')\n",
    "print('------------------')\n",
    "test['input'] = test['input'].replace(r'(.)\\1+', r'\\1\\1', regex = True)\n",
    "print(test['input'].head())"
   ]
  },
  {
   "cell_type": "markdown",
   "id": "0883cc7a",
   "metadata": {},
   "source": [
    "###  Remove Stopwords "
   ]
  },
  {
   "cell_type": "code",
   "execution_count": 38,
   "id": "6bc7d6d9",
   "metadata": {},
   "outputs": [
    {
     "name": "stdout",
     "output_type": "stream",
     "text": [
      "Remove stopwords: \n",
      "\n",
      "Train\n",
      "------------------\n",
      "0    implementation programs negative impacts earni...\n",
      "1    intercontinental hotels firstquarter global ro...\n",
      "2    alexandria va march jaakko vilo turku finland ...\n",
      "3    caterpillar lessons iconic brand digital compe...\n",
      "4    rest week tapings jimmy kimmel live canceled b...\n",
      "Name: input, dtype: object\n",
      "\n",
      "Test\n",
      "------------------\n",
      "0    x financial investor alert wolf haldenstein ad...\n",
      "1    work assignment already started due completion...\n",
      "2    insurers admiral blows hot cold aviva soars pr...\n",
      "3    jeld jeldwen holding jeld presents th annual i...\n",
      "4               compass group says positive year ahead\n",
      "Name: input, dtype: object\n"
     ]
    }
   ],
   "source": [
    "stop_words = set(stopwords.words('english'))\n",
    "def cleaning_stopwords(text):\n",
    "    return \" \".join([word for word in str(text).split() if word not in stop_words])\n",
    "\n",
    "print(\"Remove stopwords: \")\n",
    "print('\\nTrain')\n",
    "print('------------------')\n",
    "train['input'] = train['input'].apply(lambda text: cleaning_stopwords(text))\n",
    "print(train['input'].head())\n",
    "\n",
    "print('\\nTest')\n",
    "print('------------------')\n",
    "test['input'] = test['input'].apply(lambda text: cleaning_stopwords(text))\n",
    "print(test['input'].head())"
   ]
  },
  {
   "cell_type": "markdown",
   "id": "4714f948",
   "metadata": {},
   "source": [
    "### Tokenization"
   ]
  },
  {
   "cell_type": "code",
   "execution_count": 39,
   "id": "efb095b8",
   "metadata": {},
   "outputs": [
    {
     "name": "stdout",
     "output_type": "stream",
     "text": [
      "Tokenization: \n",
      "\n",
      "Train\n",
      "------------------\n",
      "Tokenization: \n",
      "0    [implementation, programs, negative, impacts, ...\n",
      "1    [intercontinental, hotels, firstquarter, globa...\n",
      "2    [alexandria, va, march, jaakko, vilo, turku, f...\n",
      "3    [caterpillar, lessons, iconic, brand, digital,...\n",
      "4    [rest, week, tapings, jimmy, kimmel, live, can...\n",
      "Name: input, dtype: object\n",
      "\n",
      "Test\n",
      "------------------\n",
      "Tokenization: \n",
      "0    [x, financial, investor, alert, wolf, haldenst...\n",
      "1    [work, assignment, already, started, due, comp...\n",
      "2    [insurers, admiral, blows, hot, cold, aviva, s...\n",
      "3    [jeld, jeldwen, holding, jeld, presents, th, a...\n",
      "4        [compass, group, says, positive, year, ahead]\n",
      "Name: input, dtype: object\n"
     ]
    }
   ],
   "source": [
    "print(\"Tokenization: \")\n",
    "print('\\nTrain')\n",
    "print('------------------')\n",
    "train['input'] = train['input'].apply(nltk.word_tokenize)\n",
    "print(\"Tokenization: \")\n",
    "print(train['input'].head())\n",
    "\n",
    "\n",
    "print('\\nTest')\n",
    "print('------------------')\n",
    "test['input'] = test['input'].apply(nltk.word_tokenize)\n",
    "print(\"Tokenization: \")\n",
    "print(test['input'].head())"
   ]
  },
  {
   "cell_type": "code",
   "execution_count": 40,
   "id": "de8d323f",
   "metadata": {},
   "outputs": [
    {
     "name": "stdout",
     "output_type": "stream",
     "text": [
      "\n",
      "Train\n",
      "------------------\n",
      "                                               input    output\n",
      "0  [implementation, programs, negative, impacts, ...  negative\n",
      "1  [intercontinental, hotels, firstquarter, globa...  negative\n",
      "2  [alexandria, va, march, jaakko, vilo, turku, f...   neutral\n",
      "3  [caterpillar, lessons, iconic, brand, digital,...   neutral\n",
      "4  [rest, week, tapings, jimmy, kimmel, live, can...   neutral\n",
      "\n",
      "Test\n",
      "------------------\n",
      "                                               input    output\n",
      "0  [x, financial, investor, alert, wolf, haldenst...  negative\n",
      "1  [work, assignment, already, started, due, comp...   neutral\n",
      "2  [insurers, admiral, blows, hot, cold, aviva, s...   neutral\n",
      "3  [jeld, jeldwen, holding, jeld, presents, th, a...   neutral\n",
      "4      [compass, group, says, positive, year, ahead]  positive\n"
     ]
    }
   ],
   "source": [
    "print('\\nTrain')\n",
    "print('------------------')\n",
    "print(train.head())\n",
    "\n",
    "print('\\nTest')\n",
    "print('------------------')\n",
    "print(test.head())"
   ]
  },
  {
   "cell_type": "markdown",
   "id": "1cc5236d",
   "metadata": {},
   "source": [
    "### Label Encoding "
   ]
  },
  {
   "cell_type": "code",
   "execution_count": 41,
   "id": "021e4e6b",
   "metadata": {},
   "outputs": [
    {
     "name": "stdout",
     "output_type": "stream",
     "text": [
      "\n",
      "Train\n",
      "------------------\n",
      "                                               input  output\n",
      "0  [implementation, programs, negative, impacts, ...      -1\n",
      "1  [intercontinental, hotels, firstquarter, globa...      -1\n",
      "2  [alexandria, va, march, jaakko, vilo, turku, f...       0\n",
      "3  [caterpillar, lessons, iconic, brand, digital,...       0\n",
      "4  [rest, week, tapings, jimmy, kimmel, live, can...       0\n",
      "\n",
      "Test\n",
      "------------------\n",
      "                                               input  output\n",
      "0  [x, financial, investor, alert, wolf, haldenst...      -1\n",
      "1  [work, assignment, already, started, due, comp...       0\n",
      "2  [insurers, admiral, blows, hot, cold, aviva, s...       0\n",
      "3  [jeld, jeldwen, holding, jeld, presents, th, a...       0\n",
      "4      [compass, group, says, positive, year, ahead]       1\n"
     ]
    }
   ],
   "source": [
    "train['output'] = train['output'].map({\"positive\": 1, \"neutral\": 0, \"negative\": -1})\n",
    "test['output'] = test['output'].map({\"positive\": 1, \"neutral\": 0, \"negative\": -1})\n",
    "print('\\nTrain')\n",
    "print('------------------')\n",
    "print(train.head())\n",
    "\n",
    "print('\\nTest')\n",
    "print('------------------')\n",
    "print(test.head())"
   ]
  },
  {
   "cell_type": "code",
   "execution_count": 42,
   "id": "045ff26a",
   "metadata": {},
   "outputs": [
    {
     "name": "stdout",
     "output_type": "stream",
     "text": [
      "\n",
      "Train\n",
      "------------------\n",
      "-1    11632\n",
      " 0    11631\n",
      " 1    11631\n",
      "Name: output, dtype: int64\n",
      "\n",
      "Test\n",
      "------------------\n",
      " 0    118\n",
      " 1    118\n",
      "-1    117\n",
      "Name: output, dtype: int64\n"
     ]
    }
   ],
   "source": [
    "print('\\nTrain')\n",
    "print('------------------')\n",
    "print(train['output'].value_counts())\n",
    "\n",
    "print('\\nTest')\n",
    "print('------------------')\n",
    "print(test['output'].value_counts())"
   ]
  },
  {
   "cell_type": "markdown",
   "id": "1fe05071",
   "metadata": {},
   "source": [
    "### POS "
   ]
  },
  {
   "cell_type": "code",
   "execution_count": 43,
   "id": "55c328fb",
   "metadata": {},
   "outputs": [
    {
     "name": "stdout",
     "output_type": "stream",
     "text": [
      "POS : \n",
      "\n",
      "Train\n",
      "------------------\n",
      "POS tagging: \n",
      "0    [(implementation, NN), (programs, NNS), (negat...\n",
      "1    [(intercontinental, JJ), (hotels, NNS), (first...\n",
      "2    [(alexandria, NNS), (va, VBP), (march, NN), (j...\n",
      "3    [(caterpillar, JJ), (lessons, NNS), (iconic, J...\n",
      "4    [(rest, NN), (week, NN), (tapings, NNS), (jimm...\n",
      "Name: input, dtype: object\n",
      "\n",
      "Test\n",
      "------------------\n",
      "POS tagging: \n",
      "0    [(x, JJ), (financial, JJ), (investor, NN), (al...\n",
      "1    [(work, NN), (assignment, NN), (already, RB), ...\n",
      "2    [(insurers, NNS), (admiral, JJ), (blows, NNS),...\n",
      "3    [(jeld, NN), (jeldwen, NN), (holding, VBG), (j...\n",
      "4    [(compass, NN), (group, NN), (says, VBZ), (pos...\n",
      "Name: input, dtype: object\n"
     ]
    }
   ],
   "source": [
    "print(\"POS : \")\n",
    "print('\\nTrain')\n",
    "print('------------------')\n",
    "train['input'] = train['input'].apply(nltk.pos_tag)\n",
    "print(\"POS tagging: \")\n",
    "print(train['input'].head())\n",
    "\n",
    "print('\\nTest')\n",
    "print('------------------')\n",
    "test['input'] = test['input'].apply(nltk.pos_tag)\n",
    "print(\"POS tagging: \")\n",
    "print(test['input'].head())"
   ]
  },
  {
   "cell_type": "markdown",
   "id": "4ee368aa",
   "metadata": {},
   "source": [
    "### Lemmatization"
   ]
  },
  {
   "cell_type": "code",
   "execution_count": 44,
   "id": "e2ae3553",
   "metadata": {},
   "outputs": [
    {
     "name": "stdout",
     "output_type": "stream",
     "text": [
      "Lemmatization : \n",
      "\n",
      "Train\n",
      "------------------\n",
      "0    implementation program negative impact earning...\n",
      "1    intercontinental hotel firstquarter global roo...\n",
      "2    alexandria va march jaakko vilo turku finland ...\n",
      "3    caterpillar lesson iconic brand digital compet...\n",
      "4    rest week taping jimmy kimmel live cancel back...\n",
      "Name: input, dtype: object\n",
      "\n",
      "Test\n",
      "------------------\n",
      "0    x financial investor alert wolf haldenstein ad...\n",
      "1    work assignment already start due completion s...\n",
      "2    insurer admiral blow hot cold aviva soar prefr...\n",
      "3    jeld jeldwen hold jeld present th annual indus...\n",
      "4                compass group say positive year ahead\n",
      "Name: input, dtype: object\n"
     ]
    }
   ],
   "source": [
    "def get_wordnet_pos(treebank_pos):\n",
    "    if treebank_pos.startswith('J'):\n",
    "        return wordnet.ADJ\n",
    "    elif treebank_pos.startswith('V'):\n",
    "        return wordnet.VERB\n",
    "    elif treebank_pos.startswith('N'):\n",
    "        return wordnet.NOUN\n",
    "    elif treebank_pos.startswith('R'):\n",
    "        return wordnet.ADV\n",
    "    else:\n",
    "        return wordnet.NOUN\n",
    "\n",
    "def lemmatization(text):\n",
    "    lemmatized_tokens = []\n",
    "\n",
    "    for i in range(len(text)):\n",
    "        word, pos = text[i]\n",
    "        \n",
    "        lemmatized_tokens.append(nltk.WordNetLemmatizer().lemmatize(word, get_wordnet_pos(pos)))\n",
    "        \n",
    "    return \" \".join(lemmatized_tokens)\n",
    "\n",
    "print(\"Lemmatization : \")\n",
    "print('\\nTrain')\n",
    "print('------------------')\n",
    "train['input'] = train['input'].apply(lambda text: lemmatization(text))\n",
    "print(train['input'].head())\n",
    "\n",
    "\n",
    "print('\\nTest')\n",
    "print('------------------')\n",
    "test['input'] = test['input'].apply(lambda text: lemmatization(text))\n",
    "print(test['input'].head())"
   ]
  },
  {
   "cell_type": "markdown",
   "id": "daefa7a9",
   "metadata": {},
   "source": [
    "### Train Test Split"
   ]
  },
  {
   "cell_type": "code",
   "execution_count": 45,
   "id": "483b3029",
   "metadata": {},
   "outputs": [],
   "source": [
    "X_train=train['input']\n",
    "X_test=test['input']\n",
    "y_train=train['output']\n",
    "y_test=test['output']"
   ]
  },
  {
   "cell_type": "code",
   "execution_count": 46,
   "id": "50c0db16",
   "metadata": {},
   "outputs": [],
   "source": [
    "tfidf_vectorizer= TfidfVectorizer(max_df=0.90, min_df=2,max_features =1000)\n",
    "X_train = tfidf_vectorizer.fit_transform(X_train) #Tokenize and build vocabulary\n",
    "X_test = tfidf_vectorizer.transform(X_test) #Tokenize and build vocabulary"
   ]
  },
  {
   "cell_type": "code",
   "execution_count": 47,
   "id": "0372f97e",
   "metadata": {},
   "outputs": [
    {
     "name": "stdout",
     "output_type": "stream",
     "text": [
      "(34894, 1000)\n",
      "(34894,)\n",
      "(353, 1000)\n",
      "(353,)\n"
     ]
    }
   ],
   "source": [
    "print(X_train.shape)\n",
    "print(y_train.shape)\n",
    "print(X_test.shape)\n",
    "print(y_test.shape)"
   ]
  },
  {
   "cell_type": "markdown",
   "id": "357e5384",
   "metadata": {},
   "source": [
    "## Ensemble Model "
   ]
  },
  {
   "cell_type": "markdown",
   "id": "e4713429",
   "metadata": {},
   "source": [
    "#### Confusion Matrix "
   ]
  },
  {
   "cell_type": "code",
   "execution_count": 48,
   "id": "20f88a8e",
   "metadata": {},
   "outputs": [],
   "source": [
    "def confusion_matrix_evaluation(classifier,y_predicted):\n",
    "    mat=confusion_matrix(y_test,y_predicted)\n",
    "    sns.heatmap(mat.T, xticklabels=['Predicted 1','Predicted 0','Predicted -1'],yticklabels=['Actual 1','Actual 0','Actual -1'],\n",
    "                annot=True, fmt='d', cbar=False,cmap=\"YlGnBu\")\n",
    "    plt.title('Confusion Matrix for '+classifier)\n",
    "    plt.ylabel('True label')\n",
    "    plt.xlabel('Predicted label')\n",
    "    plt.savefig(\"confusion_matrix.png\")\n",
    "    plt.show()\n",
    "    print(classifier+' Classification Report ')\n",
    "    print('======================================================')\n",
    "    print(classification_report(y_test,y_predicted))"
   ]
  },
  {
   "cell_type": "markdown",
   "id": "84cd7cd3",
   "metadata": {},
   "source": [
    "#### Define Base Learners "
   ]
  },
  {
   "cell_type": "code",
   "execution_count": 49,
   "id": "700bfedf",
   "metadata": {},
   "outputs": [],
   "source": [
    "from sklearn.ensemble import RandomForestClassifier\n",
    "m1=SVC(C=0.1,kernel='linear',random_state=1)\n",
    "m2=MultinomialNB(alpha=20)\n",
    "m3=RandomForestClassifier(random_state=1,max_leaf_nodes=65,max_depth=100)\n",
    "m4=LogisticRegression(multi_class='multinomial',random_state=1,solver='saga')"
   ]
  },
  {
   "cell_type": "code",
   "execution_count": 50,
   "id": "7b231fe5",
   "metadata": {},
   "outputs": [],
   "source": [
    "def model_accuracy(m1,m2,m3,m4,classifier):\n",
    "    print('Doing 2-fold Cross Validation Here :')\n",
    "    for iterclf,iterlabel in zip([m1,m2,m3,m4,classifier],\n",
    "                             ['SVC',\n",
    "                              'MNB',\n",
    "                              'Random Forest Tree',\n",
    "                              'Logistic Regression',\n",
    "                               classifier\n",
    "                             ]):\n",
    "     start_time = time.time()\n",
    "     scores=model_selection.cross_val_score(iterclf,X_train,y_train,cv=2,scoring='accuracy')\n",
    "     run_time = time.time() - start_time\n",
    "     print('Accuracy :%0.6f  (+/- %0.4f)  [%20s]   ||  %4.2f seconds'%(scores.mean(),scores.std(),iterlabel,run_time))"
   ]
  },
  {
   "cell_type": "markdown",
   "id": "41a23cf1",
   "metadata": {},
   "source": [
    "### Voting "
   ]
  },
  {
   "cell_type": "code",
   "execution_count": 51,
   "id": "1c8bfb71",
   "metadata": {},
   "outputs": [
    {
     "name": "stdout",
     "output_type": "stream",
     "text": [
      "Doing 2-fold Cross Validation Here :\n",
      "Accuracy :0.738093  (+/- 0.0025)  [                 SVC]   ||  232.40 seconds\n",
      "Accuracy :0.703187  (+/- 0.0001)  [                 MNB]   ||  0.45 seconds\n",
      "Accuracy :0.688313  (+/- 0.0026)  [  Random Forest Tree]   ||  12.81 seconds\n",
      "Accuracy :0.786811  (+/- 0.0030)  [ Logistic Regression]   ||  0.94 seconds\n",
      "Accuracy :0.747378  (+/- 0.0039)  [VotingClassifier(estimators=[('SVC',\n",
      "                              SVC(C=0.1, kernel='linear', random_state=1)),\n",
      "                             ('Multinomial Naive Bayes',\n",
      "                              MultinomialNB(alpha=20)),\n",
      "                             ('Random Forest Tree',\n",
      "                              RandomForestClassifier(max_depth=100,\n",
      "                                                     max_leaf_nodes=65,\n",
      "                                                     random_state=1)),\n",
      "                             ('Logistic Regression',\n",
      "                              LogisticRegression(multi_class='multinomial',\n",
      "                                                 random_state=1,\n",
      "                                                 solver='saga'))])]   ||  252.83 seconds\n",
      "\t\t\t Voting\n",
      "================================================================\n",
      "\n"
     ]
    },
    {
     "data": {
      "image/png": "[encoded data removed]",
      "text/plain": [
       "<Figure size 640x480 with 1 Axes>"
      ]
     },
     "metadata": {},
     "output_type": "display_data"
    },
    {
     "name": "stdout",
     "output_type": "stream",
     "text": [
      "Ensemble Method - Voting Classification Report \n",
      "======================================================\n",
      "              precision    recall  f1-score   support\n",
      "\n",
      "          -1       0.81      0.79      0.80       117\n",
      "           0       0.72      0.80      0.76       118\n",
      "           1       0.80      0.73      0.76       118\n",
      "\n",
      "    accuracy                           0.77       353\n",
      "   macro avg       0.78      0.77      0.77       353\n",
      "weighted avg       0.78      0.77      0.77       353\n",
      "\n",
      "Training Accuracy : 0.7781    ||   Training Time  274.79 seconds\n"
     ]
    }
   ],
   "source": [
    "votingCLF=VotingClassifier([('SVC',m1),('Multinomial Naive Bayes',m2),('Random Forest Tree',m3),('Logistic Regression',m4)\n",
    "                       ])\n",
    "model_accuracy(m1,m2,m3,m4,votingCLF)  \n",
    "start_time = time.time()\n",
    "votingCLF.fit(X_train,y_train)\n",
    "run_time = time.time() - start_time\n",
    "predicted_Vote=votingCLF.predict(X_test)\n",
    "\n",
    "print('\\t\\t\\t Voting')\n",
    "print('================================================================\\n')\n",
    "confusion_matrix_evaluation('Ensemble Method - Voting',predicted_Vote)\n",
    "print('Training Accuracy : %.4f    ||   Training Time  %4.2f seconds' % (votingCLF.score(X_train, y_train),run_time))"
   ]
  },
  {
   "cell_type": "markdown",
   "id": "67f5b036",
   "metadata": {},
   "source": [
    "#### Bagging  "
   ]
  },
  {
   "cell_type": "code",
   "execution_count": 52,
   "id": "9aa52f2e",
   "metadata": {},
   "outputs": [
    {
     "name": "stdout",
     "output_type": "stream",
     "text": [
      "Doing 2-fold Cross Validation Here :\n",
      "Accuracy :0.738093  (+/- 0.0025)  [                 SVC]   ||  245.18 seconds\n",
      "Accuracy :0.703187  (+/- 0.0001)  [                 MNB]   ||  0.13 seconds\n",
      "Accuracy :0.688313  (+/- 0.0026)  [  Random Forest Tree]   ||  13.26 seconds\n",
      "Accuracy :0.786811  (+/- 0.0030)  [ Logistic Regression]   ||  1.01 seconds\n",
      "Accuracy :0.692096  (+/- 0.0022)  [BaggingClassifier(base_estimator=RandomForestClassifier(max_depth=100,\n",
      "                                                        max_leaf_nodes=65,\n",
      "                                                        random_state=1),\n",
      "                  max_samples=0.7, n_estimators=20, oob_score=True,\n",
      "                  random_state=1)]   ||  219.84 seconds\n",
      "\t\t\t Bagging\n",
      "================================================================\n",
      "\n"
     ]
    },
    {
     "data": {
      "image/png": "[encoded data removed]",
      "text/plain": [
       "<Figure size 640x480 with 1 Axes>"
      ]
     },
     "metadata": {},
     "output_type": "display_data"
    },
    {
     "name": "stdout",
     "output_type": "stream",
     "text": [
      "Ensemble Method - Bagging Classification Report \n",
      "======================================================\n",
      "              precision    recall  f1-score   support\n",
      "\n",
      "          -1       0.75      0.65      0.70       117\n",
      "           0       0.56      0.77      0.65       118\n",
      "           1       0.81      0.62      0.70       118\n",
      "\n",
      "    accuracy                           0.68       353\n",
      "   macro avg       0.71      0.68      0.68       353\n",
      "weighted avg       0.71      0.68      0.68       353\n",
      "\n",
      "Training Accuracy : 0.6947   ||   Training Time  149.16 seconds\n"
     ]
    }
   ],
   "source": [
    "bag_model=BaggingClassifier(\n",
    "    base_estimator=RandomForestClassifier(random_state=1,max_leaf_nodes=65,max_depth=100),\n",
    "    n_estimators=20, #n_estimator - how many subgroup of dataset\n",
    "    max_samples=0.7, #Use 80%of sample\n",
    "    oob_score=True, #Out of bag \n",
    "    random_state=1\n",
    ")\n",
    "model_accuracy(m1,m2,m3,m4,bag_model) \n",
    "start_time = time.time()\n",
    "bag_model.fit(X_train,y_train)\n",
    "run_time = time.time() - start_time\n",
    "predictedBag=bag_model.predict(X_test)\n",
    "score_Bag=accuracy_score(predictedBag,y_test)\n",
    "\n",
    "print('\\t\\t\\t Bagging')\n",
    "print('================================================================\\n')\n",
    "confusion_matrix_evaluation('Ensemble Method - Bagging',predictedBag)\n",
    "print('Training Accuracy : %.4f   ||   Training Time  %4.2f seconds' % (bag_model.score(X_train, y_train),run_time))"
   ]
  },
  {
   "cell_type": "markdown",
   "id": "5bbad8b1",
   "metadata": {},
   "source": [
    "### Stacking "
   ]
  },
  {
   "cell_type": "code",
   "execution_count": 53,
   "id": "c1dcc68d",
   "metadata": {},
   "outputs": [
    {
     "name": "stdout",
     "output_type": "stream",
     "text": [
      "Doing 2-fold Cross Validation Here :\n",
      "Accuracy :0.738093  (+/- 0.0025)  [                 SVC]   ||  248.97 seconds\n",
      "Accuracy :0.703187  (+/- 0.0001)  [                 MNB]   ||  0.10 seconds\n",
      "Accuracy :0.688313  (+/- 0.0026)  [  Random Forest Tree]   ||  11.88 seconds\n",
      "Accuracy :0.786811  (+/- 0.0030)  [ Logistic Regression]   ||  1.10 seconds\n",
      "Accuracy :0.790594  (+/- 0.0041)  [StackingClassifier(estimators=[('SVC',\n",
      "                                SVC(C=0.1, kernel='linear', random_state=1)),\n",
      "                               ('Multinomial Naive Bayes',\n",
      "                                MultinomialNB(alpha=20)),\n",
      "                               ('Random Forest Tree',\n",
      "                                RandomForestClassifier(max_depth=100,\n",
      "                                                       max_leaf_nodes=65,\n",
      "                                                       random_state=1)),\n",
      "                               ('Logistic Regression',\n",
      "                                LogisticRegression(multi_class='multinomial',\n",
      "                                                   random_state=1,\n",
      "                                                   solver='saga'))])]   ||  888.80 seconds\n",
      "\t\t\t Stacking\n",
      "================================================================\n",
      "\n"
     ]
    },
    {
     "data": {
      "image/png": "[encoded data removed]",
      "text/plain": [
       "<Figure size 640x480 with 1 Axes>"
      ]
     },
     "metadata": {},
     "output_type": "display_data"
    },
    {
     "name": "stdout",
     "output_type": "stream",
     "text": [
      "Ensemble Method - Stacking Classification Report \n",
      "======================================================\n",
      "              precision    recall  f1-score   support\n",
      "\n",
      "          -1       0.82      0.83      0.83       117\n",
      "           0       0.78      0.77      0.77       118\n",
      "           1       0.81      0.81      0.81       118\n",
      "\n",
      "    accuracy                           0.80       353\n",
      "   macro avg       0.80      0.80      0.80       353\n",
      "weighted avg       0.80      0.80      0.80       353\n",
      "\n",
      "Training Accuracy : 0.8189   ||   Training Time  1236.07 seconds\n"
     ]
    }
   ],
   "source": [
    "stackingCLF=StackingClassifier([('SVC',m1),('Multinomial Naive Bayes',m2),('Random Forest Tree',m3),('Logistic Regression',m4)\n",
    "                       ])\n",
    "model_accuracy(m1,m2,m3,m4,stackingCLF)   \n",
    "start_time = time.time()\n",
    "stackingCLF.fit(X_train,y_train)\n",
    "run_time = time.time() - start_time\n",
    "stack_predicted=stackingCLF.predict(X_test)\n",
    "\n",
    "print('\\t\\t\\t Stacking')\n",
    "print('================================================================\\n')\n",
    "confusion_matrix_evaluation('Ensemble Method - Stacking',stack_predicted)\n",
    "print('Training Accuracy : %.4f   ||   Training Time  %4.2f seconds' % (stackingCLF.score(X_train, y_train),run_time))"
   ]
  },
  {
   "cell_type": "code",
   "execution_count": null,
   "id": "d14ac66e",
   "metadata": {},
   "outputs": [],
   "source": []
  }
 ],
 "metadata": {
  "kernelspec": {
   "display_name": "Python 3 (ipykernel)",
   "language": "python",
   "name": "python3"
  },
  "language_info": {
   "codemirror_mode": {
    "name": "ipython",
    "version": 3
   },
   "file_extension": ".py",
   "mimetype": "text/x-python",
   "name": "python",
   "nbconvert_exporter": "python",
   "pygments_lexer": "ipython3",
   "version": "3.10.7"
  }
 },
 "nbformat": 4,
 "nbformat_minor": 5
}
