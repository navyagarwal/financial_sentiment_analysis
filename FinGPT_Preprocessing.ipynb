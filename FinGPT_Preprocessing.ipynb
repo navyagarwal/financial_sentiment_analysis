{
 "cells": [
  {
   "cell_type": "code",
   "execution_count": 4,
   "id": "bef2d614",
   "metadata": {},
   "outputs": [],
   "source": [
    "import pandas as pd"
   ]
  },
  {
   "cell_type": "code",
   "execution_count": 5,
   "id": "5dee0f04",
   "metadata": {},
   "outputs": [],
   "source": [
    "from datasets import load_dataset\n",
    "ds = load_dataset(\"FinGPT/fingpt-sentiment-train\")"
   ]
  },
  {
   "cell_type": "code",
   "execution_count": 6,
   "id": "a28f67f6",
   "metadata": {},
   "outputs": [
    {
     "name": "stdout",
     "output_type": "stream",
     "text": [
      "                                               input               output  \\\n",
      "0  Teollisuuden Voima Oyj , the Finnish utility k...              neutral   \n",
      "1  Sanofi poaches AstraZeneca scientist as new re...              neutral   \n",
      "2  Starbucks says the workers violated safety pol...  moderately negative   \n",
      "3                      $brcm raises revenue forecast             positive   \n",
      "4  Google parent Alphabet Inc. reported revenue a...  moderately negative   \n",
      "\n",
      "                                         instruction  \n",
      "0  What is the sentiment of this news? Please cho...  \n",
      "1  What is the sentiment of this news? Please cho...  \n",
      "2  What is the sentiment of this news? Please cho...  \n",
      "3  What is the sentiment of this tweet? Please ch...  \n",
      "4  What is the sentiment of this news? Please cho...  \n"
     ]
    }
   ],
   "source": [
    "df = ds['train'].to_pandas()\n",
    "print(df.head())"
   ]
  },
  {
   "cell_type": "code",
   "execution_count": 28,
   "id": "aa21e080",
   "metadata": {},
   "outputs": [
    {
     "data": {
      "text/plain": [
       "array(['What is the sentiment of this news? Please choose an answer from {negative/neutral/positive}.',\n",
       "       'What is the sentiment of this news? Please choose an answer from {strong negative/moderately negative/mildly negative/neutral/mildly positive/moderately positive/strong positive}.',\n",
       "       'What is the sentiment of this tweet? Please choose an answer from {negative/neutral/positive}.'],\n",
       "      dtype=object)"
      ]
     },
     "execution_count": 28,
     "metadata": {},
     "output_type": "execute_result"
    }
   ],
   "source": [
    "df['instruction'].unique()"
   ]
  },
  {
   "cell_type": "code",
   "execution_count": 7,
   "id": "b8575b1b",
   "metadata": {},
   "outputs": [
    {
     "data": {
      "text/plain": [
       "76772"
      ]
     },
     "execution_count": 7,
     "metadata": {},
     "output_type": "execute_result"
    }
   ],
   "source": [
    "len(df)"
   ]
  },
  {
   "cell_type": "code",
   "execution_count": 8,
   "id": "0a037aa5",
   "metadata": {},
   "outputs": [],
   "source": [
    "df = df[df['instruction'] != 'What is the sentiment of this news? Please choose an answer from {strong negative/moderately negative/mildly negative/neutral/mildly positive/moderately positive/strong positive}.']"
   ]
  },
  {
   "cell_type": "code",
   "execution_count": 9,
   "id": "314a26c8",
   "metadata": {},
   "outputs": [
    {
     "data": {
      "text/plain": [
       "60588"
      ]
     },
     "execution_count": 9,
     "metadata": {},
     "output_type": "execute_result"
    }
   ],
   "source": [
    "len(df)"
   ]
  },
  {
   "cell_type": "code",
   "execution_count": 11,
   "id": "6cfc3b41",
   "metadata": {},
   "outputs": [
    {
     "data": {
      "text/plain": [
       "neutral     27251\n",
       "positive    21588\n",
       "negative    11749\n",
       "Name: output, dtype: int64"
      ]
     },
     "execution_count": 11,
     "metadata": {},
     "output_type": "execute_result"
    }
   ],
   "source": [
    "df['output'].value_counts()"
   ]
  },
  {
   "cell_type": "code",
   "execution_count": 12,
   "id": "957b1172",
   "metadata": {},
   "outputs": [],
   "source": [
    "df = df.groupby('output').apply(lambda x: x.sample(11749)).reset_index(drop=True)"
   ]
  },
  {
   "cell_type": "code",
   "execution_count": 13,
   "id": "e3d80ef1",
   "metadata": {},
   "outputs": [
    {
     "data": {
      "text/plain": [
       "35247"
      ]
     },
     "execution_count": 13,
     "metadata": {},
     "output_type": "execute_result"
    }
   ],
   "source": [
    "len(df)"
   ]
  },
  {
   "cell_type": "code",
   "execution_count": 37,
   "id": "5aed44c0",
   "metadata": {},
   "outputs": [],
   "source": [
    "df.to_csv(\"dataset.csv\", index=False)"
   ]
  },
  {
   "cell_type": "code",
   "execution_count": 1,
   "id": "3afb2386",
   "metadata": {},
   "outputs": [],
   "source": [
    "from sklearn.model_selection import train_test_split"
   ]
  },
  {
   "cell_type": "code",
   "execution_count": 15,
   "id": "9293b1a8",
   "metadata": {},
   "outputs": [],
   "source": [
    "train_df, test_df = train_test_split(df, test_size=0.01, stratify=df['output'], random_state=42)\n",
    "\n",
    "# Save to CSV\n",
    "train_df.to_csv(\"train_dataset.csv\", index=False)\n",
    "test_df.to_csv(\"test_dataset.csv\", index=False)"
   ]
  },
  {
   "cell_type": "code",
   "execution_count": 16,
   "id": "4459d723",
   "metadata": {},
   "outputs": [
    {
     "data": {
      "text/plain": [
       "negative    11632\n",
       "neutral     11631\n",
       "positive    11631\n",
       "Name: output, dtype: int64"
      ]
     },
     "execution_count": 16,
     "metadata": {},
     "output_type": "execute_result"
    }
   ],
   "source": [
    "train_df['output'].value_counts()"
   ]
  },
  {
   "cell_type": "code",
   "execution_count": 17,
   "id": "fa6401b7",
   "metadata": {},
   "outputs": [
    {
     "data": {
      "text/plain": [
       "neutral     118\n",
       "positive    118\n",
       "negative    117\n",
       "Name: output, dtype: int64"
      ]
     },
     "execution_count": 17,
     "metadata": {},
     "output_type": "execute_result"
    }
   ],
   "source": [
    "test_df['output'].value_counts()"
   ]
  }
 ],
 "metadata": {
  "kernelspec": {
   "display_name": "Python 3 (ipykernel)",
   "language": "python",
   "name": "python3"
  },
  "language_info": {
   "codemirror_mode": {
    "name": "ipython",
    "version": 3
   },
   "file_extension": ".py",
   "mimetype": "text/x-python",
   "name": "python",
   "nbconvert_exporter": "python",
   "pygments_lexer": "ipython3",
   "version": "3.10.7"
  }
 },
 "nbformat": 4,
 "nbformat_minor": 5
}
